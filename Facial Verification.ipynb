{
 "cells": [
  {
   "cell_type": "code",
   "execution_count": null,
   "id": "9ba8a9eb",
   "metadata": {},
   "outputs": [],
   "source": [
    "!pip install tensorflow opencv-python matplotlib\n"
   ]
  },
  {
   "cell_type": "code",
   "execution_count": 8,
   "id": "c72c54a7",
   "metadata": {},
   "outputs": [],
   "source": [
    "#Import standard dependcies\n",
    "import cv2\n",
    "import os\n",
    "import random\n",
    "import numpy as np\n",
    "from matplotlib import pyplot as plt\n"
   ]
  },
  {
   "cell_type": "code",
   "execution_count": 9,
   "id": "a2a09536",
   "metadata": {},
   "outputs": [],
   "source": [
    "#Import tensorflow dependcies\n",
    "from tensorflow.keras.models import Model\n",
    "#layer allows us build a custom layer\n",
    "#Conv2D allows us to make convulional neural networks\n",
    "#MaxPooling reduces the amount of data we pass to the next layer\n",
    "#Input allows us to pass through to our model\n",
    "from tensorflow.keras.layers import Layer, Conv2D, Dense, MaxPooling2D, Input, Flatten\n",
    "import tensorflow as tf"
   ]
  },
  {
   "cell_type": "code",
   "execution_count": 10,
   "id": "59a5b97d",
   "metadata": {},
   "outputs": [],
   "source": [
    "#Sets up folder path's\n",
    "POS_PATH = os.path.join('data', 'positive')\n",
    "NEG_PATH = os.path.join('data', 'negative')\n",
    "ANC_PATH = os.path.join('data', 'anchor')"
   ]
  },
  {
   "cell_type": "code",
   "execution_count": null,
   "id": "4e2ff34b",
   "metadata": {},
   "outputs": [],
   "source": [
    "#MAKES DIRECTORIES\n",
    "os.makedirs(POS_PATH)\n",
    "os.makedirs(NEG_PATH)\n",
    "os.makedirs(ANC_PATH)"
   ]
  },
  {
   "cell_type": "code",
   "execution_count": 1,
   "id": "87da94be",
   "metadata": {},
   "outputs": [],
   "source": [
    "#Uncompressed the labeled faces in the wild data set\n",
    "#This file is used to validate against our face (aka our \"negative images\")\n",
    "!tar -xf lfw.tgz"
   ]
  },
  {
   "cell_type": "code",
   "execution_count": 6,
   "id": "561c084f",
   "metadata": {},
   "outputs": [],
   "source": [
    "#adds all files to the negative directory\n",
    "for directory in os.listdir('lfw'):\n",
    "    for file in os.listdir(os.path.join('lfw', directory)):\n",
    "        EX_PATH = os.path.join('lfw', directory, file)\n",
    "        NEW_PATH = os.path.join(NEG_PATH, file)\n",
    "        os.replace(EX_PATH, NEW_PATH)"
   ]
  },
  {
   "cell_type": "code",
   "execution_count": 4,
   "id": "1dd55d54",
   "metadata": {},
   "outputs": [],
   "source": [
    "#This librarys allows us to generate uniqe images names\n",
    "import uuid"
   ]
  },
  {
   "cell_type": "code",
   "execution_count": 6,
   "id": "903127a8",
   "metadata": {},
   "outputs": [],
   "source": [
    "#Creates a connection to the webcam\n",
    "cap = cv2.VideoCapture(0)\n",
    "#loops through every frame\n",
    "while cap.isOpened():\n",
    "    #captures the frame\n",
    "    ret, frame = cap.read()\n",
    "    #sets the frame to be 250 by 250\n",
    "    frame = frame[120:120+250,200:200+250, :]\n",
    "    \n",
    "    #Collects anchor images when a is pressed\n",
    "    if cv2.waitKey(1) & 0xFF == ord('a'):\n",
    "        #Creates a uniqe image name\n",
    "        imgname = os.path.join(ANC_PATH, '{}.jpg'.format(uuid.uuid1()))\n",
    "        #saves the frame to the directory\n",
    "        cv2.imwrite(imgname, frame)\n",
    "    #Collects a positive image\n",
    "    if cv2.waitKey(1) & 0xFF == ord('p'):\n",
    "         #Creates a uniqe image name\n",
    "        imgname = os.path.join(POS_PATH, '{}.jpg'.format(uuid.uuid1()))\n",
    "        #saves the frame to the directory\n",
    "        cv2.imwrite(imgname, frame)\n",
    "    \n",
    "    #shows the image onto the screen\n",
    "    cv2.imshow('Image Collection', frame)\n",
    "    #Stops the function\n",
    "    if cv2.waitKey(1) & 0xFF == ord('q'):\n",
    "        break\n",
    "\n",
    "#For some reason in Mac, this doesn't work\n",
    "#will look more deeply into it later\n",
    "cv2.destroyWindow('Image Collection')\n",
    "\n",
    "#releases the webcam\n",
    "cap.release()"
   ]
  },
  {
   "cell_type": "code",
   "execution_count": 22,
   "id": "79cb9704",
   "metadata": {},
   "outputs": [],
   "source": [
    "#takes 300 images of each type of image collected into an tf dataset\n",
    "anchor = tf.data.Dataset.list_files(ANC_PATH+'/*.jpg').take(300)\n",
    "positive = tf.data.Dataset.list_files(POS_PATH+'/*.jpg').take(300)\n",
    "negative = tf.data.Dataset.list_files(NEG_PATH+'/*.jpg').take(300)"
   ]
  },
  {
   "cell_type": "code",
   "execution_count": 27,
   "id": "00930e4a",
   "metadata": {},
   "outputs": [],
   "source": [
    "#prepoccess the images\n",
    "def preprocess(file_path):\n",
    "    #Read the image from file path\n",
    "    byte_img = tf.io.read_file(file_path)\n",
    "    #loads the iamge\n",
    "    img = tf.io.decode_jpeg(byte_img)\n",
    "    #resizes\n",
    "    img = tf.image.resize(img,(100,100))\n",
    "    #re-scales\n",
    "    img = img / 255.0\n",
    "    return img"
   ]
  },
  {
   "cell_type": "code",
   "execution_count": 29,
   "id": "5daee501",
   "metadata": {},
   "outputs": [],
   "source": [
    "#creates labeled positives(represented by 1)\n",
    "positives = tf.data.Dataset.zip((anchor, positive, tf.data.Dataset.from_tensor_slices(tf.ones(len(anchor)))))\n",
    "#Creates labeled negatives(represented by 0)\n",
    "negaitves = tf.data.Dataset.zip((anchor, negative, tf.data.Dataset.from_tensor_slices(tf.zeros(len(anchor)))))\n",
    "data = positives.concatenate(negaitves)"
   ]
  },
  {
   "cell_type": "code",
   "execution_count": 35,
   "id": "a973985c",
   "metadata": {},
   "outputs": [],
   "source": [
    "#returned loaded and preprocessed image\n",
    "def preprocess_twin(input_img, validation_img, label):\n",
    "    return(preprocess(input_img), preprocess(validation_img), label)"
   ]
  },
  {
   "cell_type": "code",
   "execution_count": 36,
   "id": "6d9c1668",
   "metadata": {},
   "outputs": [],
   "source": [
    "# Builds the data loader pipeline\n",
    "data = data.map(preprocess_twin)\n",
    "data = data.cache()\n",
    "#ensures images are mixed instead of all positives\n",
    "#followed by all negatives\n",
    "data = data.shuffle(buffer_size=1024)"
   ]
  },
  {
   "cell_type": "code",
   "execution_count": 37,
   "id": "ec62684a",
   "metadata": {},
   "outputs": [
    {
     "data": {
      "text/plain": [
       "<_ShuffleDataset element_spec=(TensorSpec(shape=(100, 100, None), dtype=tf.float32, name=None), TensorSpec(shape=(100, 100, None), dtype=tf.float32, name=None), TensorSpec(shape=(), dtype=tf.float32, name=None))>"
      ]
     },
     "execution_count": 37,
     "metadata": {},
     "output_type": "execute_result"
    }
   ],
   "source": [
    "data"
   ]
  },
  {
   "cell_type": "code",
   "execution_count": 40,
   "id": "fe4f14de",
   "metadata": {},
   "outputs": [],
   "source": [
    "#Training parition of data\n",
    "train_data = data.take(round(len(data) * .7))\n",
    "train_data = train_data.batch(16)\n",
    "#prefecteches images do we don't overload our neural network\n",
    "train_data = train_data.prefetch(8)"
   ]
  },
  {
   "cell_type": "code",
   "execution_count": 41,
   "id": "9d8ff5f4",
   "metadata": {},
   "outputs": [
    {
     "data": {
      "text/plain": [
       "<_PrefetchDataset element_spec=(TensorSpec(shape=(None, 100, 100, None), dtype=tf.float32, name=None), TensorSpec(shape=(None, 100, 100, None), dtype=tf.float32, name=None), TensorSpec(shape=(None,), dtype=tf.float32, name=None))>"
      ]
     },
     "execution_count": 41,
     "metadata": {},
     "output_type": "execute_result"
    }
   ],
   "source": [
    "train_data"
   ]
  },
  {
   "cell_type": "code",
   "execution_count": 43,
   "id": "62394a86",
   "metadata": {},
   "outputs": [],
   "source": [
    "#Testing parition of data\n",
    "test_data = data.skip(round(len(data)*.7))\n",
    "test_data = test_data.take(round(len(data)*.3))\n",
    "test_data = test_data.batch(16)\n",
    "test_data = test_data.prefetch(8)"
   ]
  },
  {
   "cell_type": "code",
   "execution_count": null,
   "id": "1f48e95e",
   "metadata": {},
   "outputs": [],
   "source": []
  }
 ],
 "metadata": {
  "kernelspec": {
   "display_name": "Python 3 (ipykernel)",
   "language": "python",
   "name": "python3"
  },
  "language_info": {
   "codemirror_mode": {
    "name": "ipython",
    "version": 3
   },
   "file_extension": ".py",
   "mimetype": "text/x-python",
   "name": "python",
   "nbconvert_exporter": "python",
   "pygments_lexer": "ipython3",
   "version": "3.10.7"
  }
 },
 "nbformat": 4,
 "nbformat_minor": 5
}
