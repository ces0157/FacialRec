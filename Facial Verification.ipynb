{
 "cells": [
  {
   "cell_type": "code",
   "execution_count": null,
   "id": "9ba8a9eb",
   "metadata": {
    "scrolled": false
   },
   "outputs": [],
   "source": [
    "!pip install tensorflow opencv-python matplotlib\n"
   ]
  },
  {
   "cell_type": "code",
   "execution_count": null,
   "id": "c72c54a7",
   "metadata": {},
   "outputs": [],
   "source": [
    "#Import standard dependcies\n",
    "import cv2\n",
    "import os\n",
    "import random\n",
    "import numpy as np\n",
    "from matplotlib import pyplot as plt\n"
   ]
  },
  {
   "cell_type": "code",
   "execution_count": null,
   "id": "a2a09536",
   "metadata": {},
   "outputs": [],
   "source": [
    "#Import tensorflow dependcies\n",
    "from tensorflow.keras.models import Model\n",
    "#layer allows us build a custom layer\n",
    "#Conv2D allows us to make convulional neural networks\n",
    "#MaxPooling reduces the amount of data we pass to the next layer\n",
    "#Input allows us to pass through to our model\n",
    "from tensorflow.keras.layers import Layer, Conv2D, Dense, MaxPooling2D, Input, Flatten\n",
    "import tensorflow as tf"
   ]
  },
  {
   "cell_type": "code",
   "execution_count": null,
   "id": "59a5b97d",
   "metadata": {},
   "outputs": [],
   "source": [
    "#Sets up folder path's\n",
    "POS_PATH = os.path.join('data', 'positive')\n",
    "NEG_PATH = os.path.join('data', 'negative')\n",
    "ANC_PATH = os.path.join('data', 'anchor')"
   ]
  },
  {
   "cell_type": "code",
   "execution_count": null,
   "id": "4e2ff34b",
   "metadata": {},
   "outputs": [],
   "source": [
    "#MAKES DIRECTORIES\n",
    "os.makedirs(POS_PATH)\n",
    "os.makedirs(NEG_PATH)\n",
    "os.makedirs(ANC_PATH)"
   ]
  },
  {
   "cell_type": "code",
   "execution_count": null,
   "id": "87da94be",
   "metadata": {},
   "outputs": [],
   "source": [
    "#Uncompressed the labeled faces in the wild data set\n",
    "#This file is used to validate against our face (aka our \"negative images\")\n",
    "!tar -xf lfw.tgz"
   ]
  },
  {
   "cell_type": "code",
   "execution_count": null,
   "id": "561c084f",
   "metadata": {},
   "outputs": [],
   "source": [
    "#adds all files to the negative directory\n",
    "for directory in os.listdir('lfw'):\n",
    "    for file in os.listdir(os.path.join('lfw', directory)):\n",
    "        EX_PATH = os.path.join('lfw', directory, file)\n",
    "        NEW_PATH = os.path.join(NEG_PATH, file)\n",
    "        os.replace(EX_PATH, NEW_PATH)"
   ]
  },
  {
   "cell_type": "code",
   "execution_count": null,
   "id": "1dd55d54",
   "metadata": {},
   "outputs": [],
   "source": [
    "#This librarys allows us to generate uniqe images names\n",
    "import uuid"
   ]
  },
  {
   "cell_type": "code",
   "execution_count": null,
   "id": "903127a8",
   "metadata": {},
   "outputs": [],
   "source": [
    "#Creates a connection to the webcam\n",
    "cap = cv2.VideoCapture(0)\n",
    "#loops through every frame\n",
    "while cap.isOpened():\n",
    "    #captures the frame\n",
    "    ret, frame = cap.read()\n",
    "    #sets the frame to be 250 by 250\n",
    "    frame = frame[120:120+250,200:200+250, :]\n",
    "    \n",
    "    #Collects anchor images when a is pressed\n",
    "    if cv2.waitKey(1) & 0xFF == ord('a'):\n",
    "        #Creates a uniqe image name\n",
    "        imgname = os.path.join(ANC_PATH, '{}.jpg'.format(uuid.uuid1()))\n",
    "        #saves the frame to the directory\n",
    "        cv2.imwrite(imgname, frame)\n",
    "    #Collects a positive image\n",
    "    if cv2.waitKey(1) & 0xFF == ord('p'):\n",
    "         #Creates a uniqe image name\n",
    "        imgname = os.path.join(POS_PATH, '{}.jpg'.format(uuid.uuid1()))\n",
    "        #saves the frame to the directory\n",
    "        cv2.imwrite(imgname, frame)\n",
    "    \n",
    "    #shows the image onto the screen\n",
    "    cv2.imshow('Image Collection', frame)\n",
    "    #Stops the function\n",
    "    if cv2.waitKey(1) & 0xFF == ord('q'):\n",
    "        break\n",
    "\n",
    "#For some reason in Mac, this doesn't work\n",
    "#will look more deeply into it later\n",
    "cv2.destroyWindow('Image Collection')\n",
    "\n",
    "#releases the webcam\n",
    "cap.release()"
   ]
  },
  {
   "cell_type": "code",
   "execution_count": null,
   "id": "79cb9704",
   "metadata": {},
   "outputs": [],
   "source": [
    "#takes 300 images of each type of image collected into an tf dataset\n",
    "anchor = tf.data.Dataset.list_files(ANC_PATH+'/*.jpg').take(300)\n",
    "positive = tf.data.Dataset.list_files(POS_PATH+'/*.jpg').take(300)\n",
    "negative = tf.data.Dataset.list_files(NEG_PATH+'/*.jpg').take(300)"
   ]
  },
  {
   "cell_type": "code",
   "execution_count": null,
   "id": "00930e4a",
   "metadata": {},
   "outputs": [],
   "source": [
    "#prepoccess the images\n",
    "def preprocess(file_path):\n",
    "    #Read the image from file path\n",
    "    byte_img = tf.io.read_file(file_path)\n",
    "    #loads the iamge\n",
    "    img = tf.io.decode_jpeg(byte_img)\n",
    "    #resizes\n",
    "    img = tf.image.resize(img,(100,100))\n",
    "    #re-scales\n",
    "    img = img / 255.0\n",
    "    return img"
   ]
  },
  {
   "cell_type": "code",
   "execution_count": null,
   "id": "5daee501",
   "metadata": {},
   "outputs": [],
   "source": [
    "#creates labeled positives(represented by 1)\n",
    "positives = tf.data.Dataset.zip((anchor, positive, tf.data.Dataset.from_tensor_slices(tf.ones(len(anchor)))))\n",
    "#Creates labeled negatives(represented by 0)\n",
    "negaitves = tf.data.Dataset.zip((anchor, negative, tf.data.Dataset.from_tensor_slices(tf.zeros(len(anchor)))))\n",
    "data = positives.concatenate(negaitves)"
   ]
  },
  {
   "cell_type": "code",
   "execution_count": null,
   "id": "a973985c",
   "metadata": {},
   "outputs": [],
   "source": [
    "#returned loaded and preprocessed image\n",
    "def preprocess_twin(input_img, validation_img, label):\n",
    "    return(preprocess(input_img), preprocess(validation_img), label)"
   ]
  },
  {
   "cell_type": "code",
   "execution_count": null,
   "id": "6d9c1668",
   "metadata": {},
   "outputs": [],
   "source": [
    "# Builds the data loader pipeline\n",
    "data = data.map(preprocess_twin)\n",
    "data = data.cache()\n",
    "#ensures images are mixed instead of all positives\n",
    "#followed by all negatives\n",
    "data = data.shuffle(buffer_size=1024)"
   ]
  },
  {
   "cell_type": "code",
   "execution_count": null,
   "id": "ec62684a",
   "metadata": {},
   "outputs": [],
   "source": [
    "data"
   ]
  },
  {
   "cell_type": "code",
   "execution_count": null,
   "id": "fe4f14de",
   "metadata": {},
   "outputs": [],
   "source": [
    "#Training parition of data\n",
    "train_data = data.take(round(len(data) * .7))\n",
    "train_data = train_data.batch(16)\n",
    "#prefecteches images do we don't overload our neural network\n",
    "train_data = train_data.prefetch(8)"
   ]
  },
  {
   "cell_type": "code",
   "execution_count": null,
   "id": "9d8ff5f4",
   "metadata": {},
   "outputs": [],
   "source": [
    "train_data"
   ]
  },
  {
   "cell_type": "code",
   "execution_count": null,
   "id": "62394a86",
   "metadata": {},
   "outputs": [],
   "source": [
    "#Testing parition of data\n",
    "test_data = data.skip(round(len(data)*.7))\n",
    "test_data = test_data.take(round(len(data)*.3))\n",
    "test_data = test_data.batch(16)\n",
    "test_data = test_data.prefetch(8)"
   ]
  },
  {
   "cell_type": "code",
   "execution_count": null,
   "id": "563a2505",
   "metadata": {},
   "outputs": [],
   "source": []
  },
  {
   "cell_type": "code",
   "execution_count": null,
   "id": "1f48e95e",
   "metadata": {},
   "outputs": [],
   "source": [
    "def make_embedding():\n",
    "    #input layer\n",
    "    inp = Input(shape=(100,100,3), name='input_image')\n",
    "    #first convulational layer\n",
    "    c1 = Conv2D(64, (10,10), activation='relu')(inp)\n",
    "    #first pooling layer\n",
    "    m1 = MaxPooling2D(64, (2,2), padding = 'same')(c1)\n",
    "    \n",
    "    #second convulational layer\n",
    "    c2 = Conv2D(128, (7,7), activation = 'relu')(m1)\n",
    "    #second pooling layer\n",
    "    m2 = MaxPooling2D(64, (2,2), padding = 'same')(c2)\n",
    "    \n",
    "    #Third convulational layer\n",
    "    c3 = Conv2D(128, (4,4), activation='relu')(m2)\n",
    "    #thid pooling layer\n",
    "    m3 = MaxPooling2D(64,(2,2), padding = 'same')(c3)\n",
    "    \n",
    "    #fourth convulational layer\n",
    "    c4 = Conv2D(256, (4,4), activation = 'relu')(m3)\n",
    "    #taking the three dimesions and flattening it into one dimension\n",
    "    f1 = Flatten()(c4)\n",
    "    d1 = Dense(4096, activation='sigmoid')(f1)\n",
    "    \n",
    "    \n",
    "    return Model(inputs=[inp], outputs=[d1],name= 'embedding')"
   ]
  },
  {
   "cell_type": "code",
   "execution_count": null,
   "id": "66db4ca6",
   "metadata": {},
   "outputs": [],
   "source": [
    "embedding = make_embedding()"
   ]
  },
  {
   "cell_type": "code",
   "execution_count": null,
   "id": "9ce62429",
   "metadata": {},
   "outputs": [],
   "source": [
    "#uses the two neural network streams\n",
    "class L1Dist(Layer):\n",
    "    def __init__(self, **kwargs):\n",
    "        super().__init__()\n",
    "        \n",
    "    #Uses anchor image and positive/negative\n",
    "    #to compare their similarity\n",
    "    def call(self, input_embedding, validation_embedding):\n",
    "        return tf.math.abs(input_embedding - validation_embedding)\n",
    "    "
   ]
  },
  {
   "cell_type": "code",
   "execution_count": null,
   "id": "4cff78ad",
   "metadata": {},
   "outputs": [],
   "source": [
    "def make_siamese_model():\n",
    "    \n",
    "    #anchor inmage input in one network stream\n",
    "    input_image = Input(name = 'input_img', shape=(100,100,3))\n",
    "    \n",
    "    #validation image in the other network stream\n",
    "    validation_image = Input(name = 'validation_img', shape = (100,100,3))\n",
    "    \n",
    "    #combine the siamese distance layer/streams\n",
    "    siamese_layer = L1Dist()\n",
    "    siamese_layer._name = 'distance'\n",
    "    distances = siamese_layer(embedding(input_image), embedding(validation_image))\n",
    "    \n",
    "    #outputs either a one or zero\n",
    "    classifier = Dense(1, activation='sigmoid')(distances)\n",
    "    \n",
    "    return Model(inputs=[input_image, validation_image], outputs = classifier, name = 'SiameseNetwork')\n",
    "    \n",
    "    "
   ]
  },
  {
   "cell_type": "code",
   "execution_count": null,
   "id": "7a096af0",
   "metadata": {},
   "outputs": [],
   "source": [
    "siamese_model = make_siamese_model()\n",
    "siamese_model.summary()"
   ]
  },
  {
   "cell_type": "code",
   "execution_count": null,
   "id": "f139e443",
   "metadata": {},
   "outputs": [],
   "source": [
    "#loss fucntion uses binary entropy\n",
    "binary_cross_loss = tf.losses.BinaryCrossentropy()"
   ]
  },
  {
   "cell_type": "code",
   "execution_count": null,
   "id": "a10fbdd7",
   "metadata": {},
   "outputs": [],
   "source": [
    "#sets optimizer with learning rate of .0004\n",
    "#Adam was chosen because it provides good\n",
    "#effeciecney with a lot of paramaters\n",
    "opt = tf.keras.optimizers.legacy.Adam(1e-4)"
   ]
  },
  {
   "cell_type": "code",
   "execution_count": null,
   "id": "a7888e05",
   "metadata": {},
   "outputs": [],
   "source": [
    "checkpoint_dir = './training_checkpoints'\n",
    "#formats our checkpoints with ckpt\n",
    "checkpoint_prefix = os.path.join(checkpoint_dir, 'ckpt')\n",
    "#saves the optimizer and and the model\n",
    "checkpoint = tf.train.Checkpoint(opt=opt, siamese_model = siamese_model)"
   ]
  },
  {
   "cell_type": "code",
   "execution_count": null,
   "id": "0e5b1395",
   "metadata": {},
   "outputs": [],
   "source": [
    "#tf function decorator compiles our step function\n",
    "@tf.function\n",
    "def train_step(batch):\n",
    "    \n",
    "    with tf.GradientTape() as tape:\n",
    "        \n",
    "        #Get anchor and positive/negative image\n",
    "        #splices the batch into anchor and either positive\n",
    "        #or negative\n",
    "        X = batch[:2]\n",
    "        #Get Label\n",
    "        y = batch[2]\n",
    "        \n",
    "        #predicted outcome\n",
    "        yhat = siamese_model(X, training = True)\n",
    "        \n",
    "        #cacluates the loss\n",
    "        loss = binary_cross_loss(y, yhat)\n",
    "        \n",
    "    #calcuates the gradients\n",
    "    #calcuates all of our gradients with to our loss\n",
    "    grad = tape.gradient(loss, siamese_model.trainable_variables)\n",
    "    \n",
    "    #Calcuate updated witghts and apply to siamese model\n",
    "    opt.apply_gradients(zip(grad, siamese_model.trainable_variables))\n",
    "    return loss\n",
    "    \n",
    "    \n",
    "        "
   ]
  },
  {
   "cell_type": "code",
   "execution_count": null,
   "id": "ee183bcf",
   "metadata": {},
   "outputs": [],
   "source": [
    "def train(data, EPOCHS):\n",
    "    #Loop through epochs\n",
    "    for epoch in range(1, EPOCHS+1):\n",
    "        print('\\n Epoch {}/{}'.format(epoch, EPOCHS))\n",
    "        progbar = tf.keras.utils.Progbar(len(data))\n",
    "        #loop through each batch\n",
    "        for idx, batch in enumerate(data):\n",
    "            train_step(batch)\n",
    "            progbar.update(idx+1)\n",
    "        \n",
    "        #save checkpoints\n",
    "        if epoch % 10 == 0:\n",
    "            checkpoint.save(file_prefix=checkpoint_prefix)"
   ]
  },
  {
   "cell_type": "code",
   "execution_count": null,
   "id": "a706f7cf",
   "metadata": {},
   "outputs": [],
   "source": [
    "EPOCHS = 30"
   ]
  },
  {
   "cell_type": "code",
   "execution_count": null,
   "id": "018481e0",
   "metadata": {},
   "outputs": [],
   "source": [
    "train(train_data, EPOCHS)"
   ]
  },
  {
   "cell_type": "code",
   "execution_count": null,
   "id": "c1e1ffa4",
   "metadata": {},
   "outputs": [],
   "source": [
    "#import metric calcuations\n",
    "from tensorflow.keras.metrics import Precision, Recall"
   ]
  },
  {
   "cell_type": "code",
   "execution_count": null,
   "id": "7dfbc056",
   "metadata": {},
   "outputs": [],
   "source": [
    "#Retrieving our test data\n",
    "#test input, represents webcam feed\n",
    "#test val is our validation data\n",
    "#y_true is our labeled value\n",
    "test_input, test_val, y_true = test_data.as_numpy_iterator().next()"
   ]
  },
  {
   "cell_type": "code",
   "execution_count": null,
   "id": "91d75cd7",
   "metadata": {},
   "outputs": [],
   "source": [
    "#Prediction on our model\n",
    "y_hat = siamese_model.predict([test_input, test_val])\n",
    "y_hat"
   ]
  },
  {
   "cell_type": "code",
   "execution_count": null,
   "id": "06832e33",
   "metadata": {},
   "outputs": [],
   "source": [
    "#Post processing results\n",
    "#converts labeled output into a 1 or zero if it achevies a \n",
    "#certain threshold\n",
    "[1 if prediction > .5 else 0 for prediction in y_hat]"
   ]
  },
  {
   "cell_type": "code",
   "execution_count": null,
   "id": "4072a728",
   "metadata": {},
   "outputs": [],
   "source": [
    "y_true"
   ]
  },
  {
   "cell_type": "code",
   "execution_count": null,
   "id": "54e054b6",
   "metadata": {},
   "outputs": [],
   "source": [
    "#this model looks really good!"
   ]
  },
  {
   "cell_type": "code",
   "execution_count": null,
   "id": "de1cacf3",
   "metadata": {},
   "outputs": [],
   "source": [
    "#creates a metric object\n",
    "m = Recall()\n",
    "\n",
    "#Calculating the recall value\n",
    "m.update_state(y_true, y_hat)\n",
    "\n",
    "#Return recall result\n",
    "m.result().numpy()"
   ]
  },
  {
   "cell_type": "code",
   "execution_count": null,
   "id": "26a10569",
   "metadata": {},
   "outputs": [],
   "source": [
    "#Visualizing results\n",
    "#We take our 1's and 0's and see\n",
    "#if the images match!\n",
    "plt.figure(figsize = (18,8))\n",
    "plt.subplot(1,2,1)\n",
    "plt.imshow(test_input[5])\n",
    "plt.subplot(1,2,2)\n",
    "plt.imshow(test_val[5])\n",
    "plt.show()"
   ]
  },
  {
   "cell_type": "code",
   "execution_count": null,
   "id": "505ac054",
   "metadata": {},
   "outputs": [],
   "source": [
    "#Save the siamese model weights\n",
    "siamese_model.save('siamesemodel.h5')"
   ]
  },
  {
   "cell_type": "code",
   "execution_count": null,
   "id": "dfab4cda",
   "metadata": {},
   "outputs": [],
   "source": [
    "#Reload the model\n",
    "model = tf.keras.models.load_model('siamesemodel.h5',\n",
    "                            custom_objects = {'L1Dist':L1Dist, 'BinaryCrossentropy':tf.losses.BinaryCrossentropy})\n"
   ]
  },
  {
   "cell_type": "code",
   "execution_count": null,
   "id": "fcf7a760",
   "metadata": {},
   "outputs": [],
   "source": [
    "model.predict([test_input, test_val])"
   ]
  },
  {
   "cell_type": "code",
   "execution_count": null,
   "id": "fa16553a",
   "metadata": {},
   "outputs": [],
   "source": [
    "\n",
    "#model is our siamese neural network\n",
    "#detection threshold is the threshold where our predictions is positive\n",
    "#verifcation_threshold is the threshold is the proportion of positive predictions to positive samples\n",
    "def verify(model, detection_threshold, verifcation_threshold):\n",
    "    results = []\n",
    "    #takes images from our folder\n",
    "    for image in os.listdir(os.path.join('application_data', 'verifcation_images')):\n",
    "        #grabs input image from webcam\n",
    "        input_img = preprocess(os.path.join('application_data', 'input_images', 'input_image.jpg'))\n",
    "        validation_img = preprocess(os.path.join('application_data', 'verifcation_images', image))\n",
    "        \n",
    "        result = model.predict(list(np.expand_dims([input_img, validation_img], axis =1)))\n",
    "        results.append(result)\n",
    "    \n",
    "    detection = np.sum(np.array(results) > detection_threshold)\n",
    "    verification = detection / len(os.listdir(os.path.join('application_data', 'verifcation_images')))\n",
    "    verified = verification > verifcation_threshold\n",
    "    \n",
    "    return results, verified"
   ]
  },
  {
   "cell_type": "code",
   "execution_count": null,
   "id": "62b58346",
   "metadata": {},
   "outputs": [],
   "source": [
    "cap = cv2.VideoCapture(0)\n",
    "while cap.isOpened():\n",
    "    ret, frame = cap.read()\n",
    "    frame = frame[120:120+250,200:200+250, :]\n",
    "    cv2.imshow('Verification', frame)\n",
    "    \n",
    "    #begin verfication process\n",
    "    if cv2.waitKey(10) & 0XFF  == ord('v'):\n",
    "        #Save's image to image folder\n",
    "        cv2.imwrite(os.path.join('application_data', 'input_images', 'input_image.jpg'), frame)\n",
    "        \n",
    "        results, verified = verify(model,.9,.7)\n",
    "        print(verified)\n",
    "    \n",
    "    if cv2.waitKey(10) & 0XFF  == ord('q'):\n",
    "        break\n",
    "cap.release()\n",
    "cv2.destroyAllWindows()"
   ]
  },
  {
   "cell_type": "code",
   "execution_count": null,
   "id": "c5f473c8",
   "metadata": {},
   "outputs": [],
   "source": []
  }
 ],
 "metadata": {
  "kernelspec": {
   "display_name": "Python 3 (ipykernel)",
   "language": "python",
   "name": "python3"
  },
  "language_info": {
   "codemirror_mode": {
    "name": "ipython",
    "version": 3
   },
   "file_extension": ".py",
   "mimetype": "text/x-python",
   "name": "python",
   "nbconvert_exporter": "python",
   "pygments_lexer": "ipython3",
   "version": "3.10.7"
  }
 },
 "nbformat": 4,
 "nbformat_minor": 5
}
